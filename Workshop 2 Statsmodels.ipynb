{
  "nbformat": 4,
  "nbformat_minor": 0,
  "metadata": {
    "colab": {
      "name": "Py for DS - Statsmodels.ipynb",
      "provenance": [],
      "collapsed_sections": []
    },
    "kernelspec": {
      "name": "python3",
      "display_name": "Python 3"
    },
    "language_info": {
      "name": "python"
    }
  },
  "cells": [
    {
      "cell_type": "markdown",
      "metadata": {
        "id": "Rot1yJLIMdS1"
      },
      "source": [
        "## References:\n",
        "\n",
        "https://www.youtube.com/watch?v=V86gTgL1FRw\n",
        "\n",
        "https://www.youtube.com/watch?v=7NW4EouQDes\n",
        "\n",
        "https://www.youtube.com/watch?v=z_BXANUOjJY\n",
        "\n",
        "## Documentation:\n",
        "https://www.statsmodels.org/stable/index.html"
      ]
    },
    {
      "cell_type": "code",
      "metadata": {
        "id": "NiQu1rmDJFDc",
        "colab": {
          "base_uri": "https://localhost:8080/"
        },
        "outputId": "35bb581e-9e1a-4204-df43-3293c209e948"
      },
      "source": [
        "import statsmodels.api as sm\n",
        "import numpy as np\n",
        "import matplotlib.pyplot as plt\n",
        "import pandas as pd"
      ],
      "execution_count": null,
      "outputs": [
        {
          "output_type": "stream",
          "name": "stderr",
          "text": [
            "/usr/local/lib/python3.7/dist-packages/statsmodels/tools/_testing.py:19: FutureWarning: pandas.util.testing is deprecated. Use the functions in the public API at pandas.testing instead.\n",
            "  import pandas.util.testing as tm\n"
          ]
        }
      ]
    },
    {
      "cell_type": "code",
      "metadata": {
        "colab": {
          "base_uri": "https://localhost:8080/",
          "height": 203
        },
        "id": "0K7dcZ3bJUOE",
        "outputId": "5a0ca37b-9be2-4250-c4db-c95535b39e84"
      },
      "source": [
        "dataset=sm.datasets.spector.load_pandas()\n",
        "dataset.data.head()"
      ],
      "execution_count": null,
      "outputs": [
        {
          "output_type": "execute_result",
          "data": {
            "text/html": [
              "<div>\n",
              "<style scoped>\n",
              "    .dataframe tbody tr th:only-of-type {\n",
              "        vertical-align: middle;\n",
              "    }\n",
              "\n",
              "    .dataframe tbody tr th {\n",
              "        vertical-align: top;\n",
              "    }\n",
              "\n",
              "    .dataframe thead th {\n",
              "        text-align: right;\n",
              "    }\n",
              "</style>\n",
              "<table border=\"1\" class=\"dataframe\">\n",
              "  <thead>\n",
              "    <tr style=\"text-align: right;\">\n",
              "      <th></th>\n",
              "      <th>GPA</th>\n",
              "      <th>TUCE</th>\n",
              "      <th>PSI</th>\n",
              "      <th>GRADE</th>\n",
              "    </tr>\n",
              "  </thead>\n",
              "  <tbody>\n",
              "    <tr>\n",
              "      <th>0</th>\n",
              "      <td>2.66</td>\n",
              "      <td>20.0</td>\n",
              "      <td>0.0</td>\n",
              "      <td>0.0</td>\n",
              "    </tr>\n",
              "    <tr>\n",
              "      <th>1</th>\n",
              "      <td>2.89</td>\n",
              "      <td>22.0</td>\n",
              "      <td>0.0</td>\n",
              "      <td>0.0</td>\n",
              "    </tr>\n",
              "    <tr>\n",
              "      <th>2</th>\n",
              "      <td>3.28</td>\n",
              "      <td>24.0</td>\n",
              "      <td>0.0</td>\n",
              "      <td>0.0</td>\n",
              "    </tr>\n",
              "    <tr>\n",
              "      <th>3</th>\n",
              "      <td>2.92</td>\n",
              "      <td>12.0</td>\n",
              "      <td>0.0</td>\n",
              "      <td>0.0</td>\n",
              "    </tr>\n",
              "    <tr>\n",
              "      <th>4</th>\n",
              "      <td>4.00</td>\n",
              "      <td>21.0</td>\n",
              "      <td>0.0</td>\n",
              "      <td>1.0</td>\n",
              "    </tr>\n",
              "  </tbody>\n",
              "</table>\n",
              "</div>"
            ],
            "text/plain": [
              "    GPA  TUCE  PSI  GRADE\n",
              "0  2.66  20.0  0.0    0.0\n",
              "1  2.89  22.0  0.0    0.0\n",
              "2  3.28  24.0  0.0    0.0\n",
              "3  2.92  12.0  0.0    0.0\n",
              "4  4.00  21.0  0.0    1.0"
            ]
          },
          "metadata": {},
          "execution_count": 2
        }
      ]
    },
    {
      "cell_type": "code",
      "metadata": {
        "colab": {
          "base_uri": "https://localhost:8080/",
          "height": 295
        },
        "id": "7wdd0vgqJwoO",
        "outputId": "2e5255bc-88d7-4cf1-c400-b650d998c1a9"
      },
      "source": [
        "dataset.data.describe()"
      ],
      "execution_count": null,
      "outputs": [
        {
          "output_type": "execute_result",
          "data": {
            "text/html": [
              "<div>\n",
              "<style scoped>\n",
              "    .dataframe tbody tr th:only-of-type {\n",
              "        vertical-align: middle;\n",
              "    }\n",
              "\n",
              "    .dataframe tbody tr th {\n",
              "        vertical-align: top;\n",
              "    }\n",
              "\n",
              "    .dataframe thead th {\n",
              "        text-align: right;\n",
              "    }\n",
              "</style>\n",
              "<table border=\"1\" class=\"dataframe\">\n",
              "  <thead>\n",
              "    <tr style=\"text-align: right;\">\n",
              "      <th></th>\n",
              "      <th>GPA</th>\n",
              "      <th>TUCE</th>\n",
              "      <th>PSI</th>\n",
              "      <th>GRADE</th>\n",
              "    </tr>\n",
              "  </thead>\n",
              "  <tbody>\n",
              "    <tr>\n",
              "      <th>count</th>\n",
              "      <td>32.000000</td>\n",
              "      <td>32.000000</td>\n",
              "      <td>32.000000</td>\n",
              "      <td>32.000000</td>\n",
              "    </tr>\n",
              "    <tr>\n",
              "      <th>mean</th>\n",
              "      <td>3.117188</td>\n",
              "      <td>21.937500</td>\n",
              "      <td>0.437500</td>\n",
              "      <td>0.343750</td>\n",
              "    </tr>\n",
              "    <tr>\n",
              "      <th>std</th>\n",
              "      <td>0.466713</td>\n",
              "      <td>3.901509</td>\n",
              "      <td>0.504016</td>\n",
              "      <td>0.482559</td>\n",
              "    </tr>\n",
              "    <tr>\n",
              "      <th>min</th>\n",
              "      <td>2.060000</td>\n",
              "      <td>12.000000</td>\n",
              "      <td>0.000000</td>\n",
              "      <td>0.000000</td>\n",
              "    </tr>\n",
              "    <tr>\n",
              "      <th>25%</th>\n",
              "      <td>2.812500</td>\n",
              "      <td>19.750000</td>\n",
              "      <td>0.000000</td>\n",
              "      <td>0.000000</td>\n",
              "    </tr>\n",
              "    <tr>\n",
              "      <th>50%</th>\n",
              "      <td>3.065000</td>\n",
              "      <td>22.500000</td>\n",
              "      <td>0.000000</td>\n",
              "      <td>0.000000</td>\n",
              "    </tr>\n",
              "    <tr>\n",
              "      <th>75%</th>\n",
              "      <td>3.515000</td>\n",
              "      <td>25.000000</td>\n",
              "      <td>1.000000</td>\n",
              "      <td>1.000000</td>\n",
              "    </tr>\n",
              "    <tr>\n",
              "      <th>max</th>\n",
              "      <td>4.000000</td>\n",
              "      <td>29.000000</td>\n",
              "      <td>1.000000</td>\n",
              "      <td>1.000000</td>\n",
              "    </tr>\n",
              "  </tbody>\n",
              "</table>\n",
              "</div>"
            ],
            "text/plain": [
              "             GPA       TUCE        PSI      GRADE\n",
              "count  32.000000  32.000000  32.000000  32.000000\n",
              "mean    3.117188  21.937500   0.437500   0.343750\n",
              "std     0.466713   3.901509   0.504016   0.482559\n",
              "min     2.060000  12.000000   0.000000   0.000000\n",
              "25%     2.812500  19.750000   0.000000   0.000000\n",
              "50%     3.065000  22.500000   0.000000   0.000000\n",
              "75%     3.515000  25.000000   1.000000   1.000000\n",
              "max     4.000000  29.000000   1.000000   1.000000"
            ]
          },
          "metadata": {},
          "execution_count": 3
        }
      ]
    },
    {
      "cell_type": "code",
      "metadata": {
        "colab": {
          "base_uri": "https://localhost:8080/"
        },
        "id": "sZFTebbJKhsy",
        "outputId": "c213da6a-3291-46e6-801f-7aff8ef12c93"
      },
      "source": [
        "dataset.data.isna().sum()"
      ],
      "execution_count": null,
      "outputs": [
        {
          "output_type": "execute_result",
          "data": {
            "text/plain": [
              "GPA      0\n",
              "TUCE     0\n",
              "PSI      0\n",
              "GRADE    0\n",
              "dtype: int64"
            ]
          },
          "metadata": {},
          "execution_count": 5
        }
      ]
    },
    {
      "cell_type": "code",
      "metadata": {
        "colab": {
          "base_uri": "https://localhost:8080/"
        },
        "id": "n5JJ7Q2XKmys",
        "outputId": "bb8f6bbf-aaf9-4276-b5ce-ec589fa2625e"
      },
      "source": [
        "dataset.data.info()"
      ],
      "execution_count": null,
      "outputs": [
        {
          "output_type": "stream",
          "name": "stdout",
          "text": [
            "<class 'pandas.core.frame.DataFrame'>\n",
            "RangeIndex: 32 entries, 0 to 31\n",
            "Data columns (total 4 columns):\n",
            " #   Column  Non-Null Count  Dtype  \n",
            "---  ------  --------------  -----  \n",
            " 0   GPA     32 non-null     float64\n",
            " 1   TUCE    32 non-null     float64\n",
            " 2   PSI     32 non-null     float64\n",
            " 3   GRADE   32 non-null     float64\n",
            "dtypes: float64(4)\n",
            "memory usage: 1.1 KB\n"
          ]
        }
      ]
    },
    {
      "cell_type": "code",
      "metadata": {
        "id": "O-si9rjOKwml"
      },
      "source": [
        "model = sm.OLS.from_formula('GRADE ~ GPA + TUCE', dataset.data) #Ordinary Least Squares Regression  Grade as a function of GPA and TUCE\n",
        "\n",
        "#Note: Using sm.OLS(y,x).fit()   -> y is first, not x, unlike sklearn where x is first in model.fit(x,y)"
      ],
      "execution_count": null,
      "outputs": []
    },
    {
      "cell_type": "code",
      "metadata": {
        "id": "nhnTKSvYNHjR"
      },
      "source": [
        "results=model.fit()"
      ],
      "execution_count": null,
      "outputs": []
    },
    {
      "cell_type": "code",
      "metadata": {
        "colab": {
          "base_uri": "https://localhost:8080/",
          "height": 142
        },
        "id": "kkLLiR20Ydgi",
        "outputId": "999e478b-dc12-4575-94c5-621802ac15ed"
      },
      "source": [
        "results.conf_int(alpha=0.1, cols=None)"
      ],
      "execution_count": null,
      "outputs": [
        {
          "output_type": "execute_result",
          "data": {
            "text/html": [
              "<div>\n",
              "<style scoped>\n",
              "    .dataframe tbody tr th:only-of-type {\n",
              "        vertical-align: middle;\n",
              "    }\n",
              "\n",
              "    .dataframe tbody tr th {\n",
              "        vertical-align: top;\n",
              "    }\n",
              "\n",
              "    .dataframe thead th {\n",
              "        text-align: right;\n",
              "    }\n",
              "</style>\n",
              "<table border=\"1\" class=\"dataframe\">\n",
              "  <thead>\n",
              "    <tr style=\"text-align: right;\">\n",
              "      <th></th>\n",
              "      <th>0</th>\n",
              "      <th>1</th>\n",
              "    </tr>\n",
              "  </thead>\n",
              "  <tbody>\n",
              "    <tr>\n",
              "      <th>Intercept</th>\n",
              "      <td>-2.432282</td>\n",
              "      <td>-0.466498</td>\n",
              "    </tr>\n",
              "    <tr>\n",
              "      <th>GPA</th>\n",
              "      <td>0.157919</td>\n",
              "      <td>0.765975</td>\n",
              "    </tr>\n",
              "    <tr>\n",
              "      <th>TUCE</th>\n",
              "      <td>-0.020270</td>\n",
              "      <td>0.052468</td>\n",
              "    </tr>\n",
              "  </tbody>\n",
              "</table>\n",
              "</div>"
            ],
            "text/plain": [
              "                  0         1\n",
              "Intercept -2.432282 -0.466498\n",
              "GPA        0.157919  0.765975\n",
              "TUCE      -0.020270  0.052468"
            ]
          },
          "metadata": {},
          "execution_count": 13
        }
      ]
    },
    {
      "cell_type": "code",
      "metadata": {
        "colab": {
          "base_uri": "https://localhost:8080/"
        },
        "id": "bySLMqwyNLtW",
        "outputId": "6037b861-9021-4498-ef69-656b850a173a"
      },
      "source": [
        "print(results.summary(alpha=0.1))"
      ],
      "execution_count": null,
      "outputs": [
        {
          "output_type": "stream",
          "name": "stdout",
          "text": [
            "                            OLS Regression Results                            \n",
            "==============================================================================\n",
            "Dep. Variable:                  GRADE   R-squared:                       0.262\n",
            "Model:                            OLS   Adj. R-squared:                  0.211\n",
            "Method:                 Least Squares   F-statistic:                     5.136\n",
            "Date:                Thu, 21 Oct 2021   Prob (F-statistic):             0.0123\n",
            "Time:                        10:30:22   Log-Likelihood:                -16.730\n",
            "No. Observations:                  32   AIC:                             39.46\n",
            "Df Residuals:                      29   BIC:                             43.86\n",
            "Df Model:                           2                                         \n",
            "Covariance Type:            nonrobust                                         \n",
            "==============================================================================\n",
            "                 coef    std err          t      P>|t|       [0.05       0.95]\n",
            "------------------------------------------------------------------------------\n",
            "Intercept     -1.4494      0.578     -2.506      0.018      -2.432      -0.466\n",
            "GPA            0.4619      0.179      2.582      0.015       0.158       0.766\n",
            "TUCE           0.0161      0.021      0.752      0.458      -0.020       0.052\n",
            "==============================================================================\n",
            "Omnibus:                        2.432   Durbin-Watson:                   1.813\n",
            "Prob(Omnibus):                  0.296   Jarque-Bera (JB):                2.143\n",
            "Skew:                           0.607   Prob(JB):                        0.343\n",
            "Kurtosis:                       2.638   Cond. No.                         175.\n",
            "==============================================================================\n",
            "\n",
            "Warnings:\n",
            "[1] Standard Errors assume that the covariance matrix of the errors is correctly specified.\n"
          ]
        }
      ]
    },
    {
      "cell_type": "code",
      "metadata": {
        "colab": {
          "base_uri": "https://localhost:8080/"
        },
        "id": "eU1daWvfNOVF",
        "outputId": "1296a91d-e472-46e4-faa4-7140b89c681f"
      },
      "source": [
        "model.predict(results.params, [[1, 4.0, 25]]) # Intercept, GPA, TUCE"
      ],
      "execution_count": null,
      "outputs": [
        {
          "output_type": "execute_result",
          "data": {
            "text/plain": [
              "array([0.8008647])"
            ]
          },
          "metadata": {},
          "execution_count": 81
        }
      ]
    },
    {
      "cell_type": "code",
      "metadata": {
        "id": "yzwTGxzDPe--"
      },
      "source": [
        "preds=model.predict(results.params, pd.merge( pd.DataFrame( np.ones(len(dataset.data) )) , dataset.data[['GPA','TUCE']] ,left_index=True,right_index=True) )"
      ],
      "execution_count": null,
      "outputs": []
    },
    {
      "cell_type": "code",
      "metadata": {
        "id": "h8wk9an_atTv"
      },
      "source": [
        "pd.DataFrame( np.ones(len(dataset.data) ))"
      ],
      "execution_count": null,
      "outputs": []
    },
    {
      "cell_type": "code",
      "metadata": {
        "colab": {
          "base_uri": "https://localhost:8080/"
        },
        "id": "lYVEXMXuQH3v",
        "outputId": "e9b7fcca-dedf-4e84-dd17-4b47e1bbb3ff"
      },
      "source": [
        "preds"
      ],
      "execution_count": null,
      "outputs": [
        {
          "output_type": "execute_result",
          "data": {
            "text/plain": [
              "array([ 0.10136247,  0.23980759,  0.45216423,  0.09267935,  0.73647004,\n",
              "        0.14545586,  0.09926117,  0.21446999,  0.35277616,  0.82830361,\n",
              "        0.08750406,  0.45454345,  0.57003018,  0.45902396,  0.5998483 ,\n",
              "        0.12221956,  0.22343102,  0.16379478,  0.36215406,  0.41282927,\n",
              "       -0.14360837,  0.67362086,  0.11101827,  0.59060936,  0.57227044,\n",
              "        0.2925841 ,  0.39028774,  0.1703766 ,  0.57478861,  0.76866737,\n",
              "        0.32071779, -0.03946187])"
            ]
          },
          "metadata": {},
          "execution_count": 18
        }
      ]
    },
    {
      "cell_type": "code",
      "metadata": {
        "colab": {
          "base_uri": "https://localhost:8080/",
          "height": 265
        },
        "id": "IZmv_lk1QQv4",
        "outputId": "61689ed3-1ae0-44f2-8f0a-cf027aa96de7"
      },
      "source": [
        "plt.plot(dataset.data['GRADE'],'b')\n",
        "plt.plot(preds,'r')\n",
        "plt.show()"
      ],
      "execution_count": null,
      "outputs": [
        {
          "output_type": "display_data",
          "data": {
            "image/png": "[encoded data removed]",
            "text/plain": [
              "<Figure size 432x288 with 1 Axes>"
            ]
          },
          "metadata": {
            "needs_background": "light"
          }
        }
      ]
    },
    {
      "cell_type": "code",
      "metadata": {
        "colab": {
          "base_uri": "https://localhost:8080/"
        },
        "id": "pliXWCkdNZ8R",
        "outputId": "a3d638cb-fd4f-4102-ce0f-facebd76e833"
      },
      "source": [
        "print(results.f_test(\"GPA = TUCE = 0\")) # F Test of GPA and Truce being 0\n",
        "print(results.f_test(\"GPA = 0\")) # F test of GPA being 0"
      ],
      "execution_count": null,
      "outputs": [
        {
          "output_type": "stream",
          "name": "stdout",
          "text": [
            "<F test: F=array([[5.13598155]]), p=0.0123189334795685, df_denom=29, df_num=2>\n",
            "<F test: F=array([[6.66512585]]), p=0.015152091770702656, df_denom=29, df_num=1>\n"
          ]
        }
      ]
    },
    {
      "cell_type": "code",
      "metadata": {
        "id": "Xf2oQxK5Ni5P"
      },
      "source": [
        "model2 = sm.OLS.from_formula('GRADE ~ GPA + TUCE + PSI', dataset.data)"
      ],
      "execution_count": null,
      "outputs": []
    },
    {
      "cell_type": "code",
      "metadata": {
        "colab": {
          "base_uri": "https://localhost:8080/"
        },
        "id": "F7EnN_l_NpJ2",
        "outputId": "7d1dbb03-d905-45c1-89ab-fa47c1b54e3c"
      },
      "source": [
        "res2 = model2.fit()\n",
        "print(res2.summary(alpha=0.1))"
      ],
      "execution_count": null,
      "outputs": [
        {
          "output_type": "stream",
          "name": "stdout",
          "text": [
            "                            OLS Regression Results                            \n",
            "==============================================================================\n",
            "Dep. Variable:                  GRADE   R-squared:                       0.416\n",
            "Model:                            OLS   Adj. R-squared:                  0.353\n",
            "Method:                 Least Squares   F-statistic:                     6.646\n",
            "Date:                Thu, 21 Oct 2021   Prob (F-statistic):            0.00157\n",
            "Time:                        10:39:02   Log-Likelihood:                -12.978\n",
            "No. Observations:                  32   AIC:                             33.96\n",
            "Df Residuals:                      28   BIC:                             39.82\n",
            "Df Model:                           3                                         \n",
            "Covariance Type:            nonrobust                                         \n",
            "==============================================================================\n",
            "                 coef    std err          t      P>|t|       [0.05       0.95]\n",
            "------------------------------------------------------------------------------\n",
            "Intercept     -1.4980      0.524     -2.859      0.008      -2.389      -0.607\n",
            "GPA            0.4639      0.162      2.864      0.008       0.188       0.739\n",
            "TUCE           0.0105      0.019      0.539      0.594      -0.023       0.044\n",
            "PSI            0.3786      0.139      2.720      0.011       0.142       0.615\n",
            "==============================================================================\n",
            "Omnibus:                        0.176   Durbin-Watson:                   2.346\n",
            "Prob(Omnibus):                  0.916   Jarque-Bera (JB):                0.167\n",
            "Skew:                           0.141   Prob(JB):                        0.920\n",
            "Kurtosis:                       2.786   Cond. No.                         176.\n",
            "==============================================================================\n",
            "\n",
            "Warnings:\n",
            "[1] Standard Errors assume that the covariance matrix of the errors is correctly specified.\n"
          ]
        }
      ]
    },
    {
      "cell_type": "code",
      "metadata": {
        "colab": {
          "base_uri": "https://localhost:8080/"
        },
        "id": "Q0TIElV7Ntqk",
        "outputId": "0732db15-7c67-4b9b-ba34-69286b9abc19"
      },
      "source": [
        "print('p-value is the middle term:')\n",
        "res2.compare_f_test(results)  #Probablitiy that results was better than res2"
      ],
      "execution_count": null,
      "outputs": [
        {
          "output_type": "stream",
          "name": "stdout",
          "text": [
            "p-value is the middle term:\n"
          ]
        },
        {
          "output_type": "execute_result",
          "data": {
            "text/plain": [
              "(7.398592827766216, 0.011087680712559986, 1.0)"
            ]
          },
          "metadata": {},
          "execution_count": 24
        }
      ]
    },
    {
      "cell_type": "code",
      "metadata": {
        "id": "8vT2PoWhN0rQ"
      },
      "source": [
        "res2.save('OLS Results.pkl') #Pickle file"
      ],
      "execution_count": null,
      "outputs": []
    },
    {
      "cell_type": "code",
      "metadata": {
        "id": "1DcRqZL2OAlT"
      },
      "source": [
        "res = sm.load('OLS Results.pkl')"
      ],
      "execution_count": null,
      "outputs": []
    },
    {
      "cell_type": "code",
      "metadata": {
        "id": "MjXsAB4OOF_C",
        "colab": {
          "base_uri": "https://localhost:8080/"
        },
        "outputId": "7761d64d-f9d7-4d56-e1c9-88fdff6fafff"
      },
      "source": [
        "print(res.summary())"
      ],
      "execution_count": null,
      "outputs": [
        {
          "output_type": "stream",
          "name": "stdout",
          "text": [
            "                            OLS Regression Results                            \n",
            "==============================================================================\n",
            "Dep. Variable:                  GRADE   R-squared:                       0.416\n",
            "Model:                            OLS   Adj. R-squared:                  0.353\n",
            "Method:                 Least Squares   F-statistic:                     6.646\n",
            "Date:                Thu, 21 Oct 2021   Prob (F-statistic):            0.00157\n",
            "Time:                        10:41:17   Log-Likelihood:                -12.978\n",
            "No. Observations:                  32   AIC:                             33.96\n",
            "Df Residuals:                      28   BIC:                             39.82\n",
            "Df Model:                           3                                         \n",
            "Covariance Type:            nonrobust                                         \n",
            "==============================================================================\n",
            "                 coef    std err          t      P>|t|      [0.025      0.975]\n",
            "------------------------------------------------------------------------------\n",
            "Intercept     -1.4980      0.524     -2.859      0.008      -2.571      -0.425\n",
            "GPA            0.4639      0.162      2.864      0.008       0.132       0.796\n",
            "TUCE           0.0105      0.019      0.539      0.594      -0.029       0.050\n",
            "PSI            0.3786      0.139      2.720      0.011       0.093       0.664\n",
            "==============================================================================\n",
            "Omnibus:                        0.176   Durbin-Watson:                   2.346\n",
            "Prob(Omnibus):                  0.916   Jarque-Bera (JB):                0.167\n",
            "Skew:                           0.141   Prob(JB):                        0.920\n",
            "Kurtosis:                       2.786   Cond. No.                         176.\n",
            "==============================================================================\n",
            "\n",
            "Warnings:\n",
            "[1] Standard Errors assume that the covariance matrix of the errors is correctly specified.\n"
          ]
        }
      ]
    },
    {
      "cell_type": "code",
      "metadata": {
        "id": "46QIygqQcM40"
      },
      "source": [
        ""
      ],
      "execution_count": null,
      "outputs": []
    }
  ]
}